{
  "nbformat": 4,
  "nbformat_minor": 0,
  "metadata": {
    "colab": {
      "provenance": []
    },
    "kernelspec": {
      "name": "python3",
      "display_name": "Python 3"
    },
    "language_info": {
      "name": "python"
    }
  },
  "cells": [
    {
      "cell_type": "code",
      "execution_count": null,
      "metadata": {
        "id": "X5lB6MaVU2dN"
      },
      "outputs": [],
      "source": [
        "!pip install climata\n",
        "# This code snippet collects streamflow data from the USGS database using \n",
        "# the python climata library\n",
        "\n",
        "import matplotlib\n",
        "import matplotlib.pyplot as plt\n",
        "import pandas as pd\n",
        "import numpy as np\n",
        "import sys\n",
        "from matplotlib.ticker import IndexFormatter\n",
        "from climata.usgs import DailyValueIO\n",
        "from pandas.plotting import register_matplotlib_converters\n",
        "from pandas.core.indexes.base import Index\n",
        "\n",
        "# set parameters\n",
        "station_id = \"01576000\" # Marietta gaging station id\n",
        "param_id = \"00060\" # discharge in cubic feet per second/ day\n",
        "start_date = '1/01/1932'\n",
        "end_date = '31/12/2001'\n",
        "datelist = pd.date_range(start=start_date, end=end_date)\n",
        "\n",
        "data = DailyValueIO(\n",
        "    start_date=datelist[0],\n",
        "    end_date=datelist[-1],\n",
        "    station=station_id,\n",
        "    parameter=param_id,\n",
        ")\n",
        "\n",
        "#retrieve the flow and date values from data\n",
        "for series in data:  \n",
        "  flow = [r[1] for r in series.data]\n",
        "  dates = [r[0] for r in series.data]\n"
      ]
    }
  ]
}